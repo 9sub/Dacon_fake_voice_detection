{
 "cells": [
  {
   "cell_type": "code",
   "execution_count": 2,
   "metadata": {},
   "outputs": [],
   "source": [
    "import librosa\n",
    "\n",
    "from sklearn.model_selection import train_test_split\n",
    "import numpy as np\n",
    "import pandas as pd\n",
    "import random\n",
    "\n",
    "from torch import nn\n",
    "import torch.nn.functional as F\n",
    "\n",
    "from torch.utils.data import Dataset, DataLoader\n",
    "from tqdm import tqdm\n",
    "from sklearn.ensemble import RandomForestClassifier\n",
    "\n",
    "import torch\n",
    "import torchmetrics\n",
    "import os\n",
    "\n",
    "import pickle"
   ]
  },
  {
   "cell_type": "code",
   "execution_count": 3,
   "metadata": {},
   "outputs": [
    {
     "name": "stdout",
     "output_type": "stream",
     "text": [
      "tensor([1.], device='mps:0')\n"
     ]
    }
   ],
   "source": [
    "import torch\n",
    "if torch.backends.mps.is_available():\n",
    "    mps_device = torch.device(\"mps\")\n",
    "    x = torch.ones(1, device=mps_device)\n",
    "    print (x)\n",
    "else:\n",
    "    print (\"MPS device not found.\")"
   ]
  },
  {
   "cell_type": "code",
   "execution_count": 4,
   "metadata": {},
   "outputs": [],
   "source": [
    "import warnings\n",
    "warnings.filterwarnings('ignore')"
   ]
  },
  {
   "cell_type": "code",
   "execution_count": 5,
   "metadata": {},
   "outputs": [],
   "source": [
    "device = device = torch.device(\"mps\")"
   ]
  },
  {
   "cell_type": "code",
   "execution_count": 6,
   "metadata": {},
   "outputs": [],
   "source": [
    "class Config:\n",
    "    SR = 32000\n",
    "    N_MFCC = 13\n",
    "    # Dataset\n",
    "    ROOT_FOLDER = './'\n",
    "    # Training\n",
    "    N_CLASSES = 2\n",
    "    BATCH_SIZE = 96\n",
    "    N_EPOCHS = 5\n",
    "    LR = 3e-4\n",
    "    # Others\n",
    "    SEED = 42\n",
    "\n",
    "CONFIG = Config()"
   ]
  },
  {
   "cell_type": "code",
   "execution_count": 7,
   "metadata": {},
   "outputs": [
    {
     "data": {
      "text/html": [
       "<div>\n",
       "<style scoped>\n",
       "    .dataframe tbody tr th:only-of-type {\n",
       "        vertical-align: middle;\n",
       "    }\n",
       "\n",
       "    .dataframe tbody tr th {\n",
       "        vertical-align: top;\n",
       "    }\n",
       "\n",
       "    .dataframe thead th {\n",
       "        text-align: right;\n",
       "    }\n",
       "</style>\n",
       "<table border=\"1\" class=\"dataframe\">\n",
       "  <thead>\n",
       "    <tr style=\"text-align: right;\">\n",
       "      <th></th>\n",
       "      <th>id</th>\n",
       "      <th>path</th>\n",
       "      <th>label</th>\n",
       "    </tr>\n",
       "  </thead>\n",
       "  <tbody>\n",
       "    <tr>\n",
       "      <th>0</th>\n",
       "      <td>RUNQPNJF</td>\n",
       "      <td>./train/RUNQPNJF.ogg</td>\n",
       "      <td>real</td>\n",
       "    </tr>\n",
       "    <tr>\n",
       "      <th>1</th>\n",
       "      <td>JFAWUOGJ</td>\n",
       "      <td>./train/JFAWUOGJ.ogg</td>\n",
       "      <td>fake</td>\n",
       "    </tr>\n",
       "    <tr>\n",
       "      <th>2</th>\n",
       "      <td>RDKEKEVX</td>\n",
       "      <td>./train/RDKEKEVX.ogg</td>\n",
       "      <td>real</td>\n",
       "    </tr>\n",
       "    <tr>\n",
       "      <th>3</th>\n",
       "      <td>QYHJDOFK</td>\n",
       "      <td>./train/QYHJDOFK.ogg</td>\n",
       "      <td>real</td>\n",
       "    </tr>\n",
       "    <tr>\n",
       "      <th>4</th>\n",
       "      <td>RSPQNHAO</td>\n",
       "      <td>./train/RSPQNHAO.ogg</td>\n",
       "      <td>real</td>\n",
       "    </tr>\n",
       "  </tbody>\n",
       "</table>\n",
       "</div>"
      ],
      "text/plain": [
       "         id                  path label\n",
       "0  RUNQPNJF  ./train/RUNQPNJF.ogg  real\n",
       "1  JFAWUOGJ  ./train/JFAWUOGJ.ogg  fake\n",
       "2  RDKEKEVX  ./train/RDKEKEVX.ogg  real\n",
       "3  QYHJDOFK  ./train/QYHJDOFK.ogg  real\n",
       "4  RSPQNHAO  ./train/RSPQNHAO.ogg  real"
      ]
     },
     "execution_count": 7,
     "metadata": {},
     "output_type": "execute_result"
    }
   ],
   "source": [
    "df = pd.read_csv('./train.csv')\n",
    "df.head()"
   ]
  },
  {
   "cell_type": "code",
   "execution_count": 8,
   "metadata": {},
   "outputs": [],
   "source": [
    "train, val, _, _ = train_test_split(df, df['label'], test_size=0.2, random_state=CONFIG.SEED)"
   ]
  },
  {
   "cell_type": "code",
   "execution_count": 9,
   "metadata": {},
   "outputs": [],
   "source": [
    "def get_mfcc_feature(df, train_mode=True):\n",
    "    features = []\n",
    "    labels = []\n",
    "    for _, row in tqdm(df.iterrows()):\n",
    "        # librosa패키지를 사용하여 wav 파일 load\n",
    "        y, sr = librosa.load(row['path'], sr=CONFIG.SR)\n",
    "        # librosa패키지를 사용하여 mfcc 추출\n",
    "        mfcc = librosa.feature.mfcc(y=y, sr=sr, n_mfcc=CONFIG.N_MFCC)\n",
    "        mfcc = np.mean(mfcc.T, axis=0)\n",
    "        features.append(mfcc)\n",
    "\n",
    "        if train_mode:\n",
    "            label = row['label']\n",
    "            label_vector = 0 if label == 'fake' else 1\n",
    "            #label_vector[0 if label == 'fake' else 1] = 1\n",
    "            labels.append(label_vector)\n",
    "\n",
    "    if train_mode:\n",
    "        return features, labels\n",
    "    return features"
   ]
  },
  {
   "cell_type": "code",
   "execution_count": 10,
   "metadata": {},
   "outputs": [
    {
     "name": "stderr",
     "output_type": "stream",
     "text": [
      "44350it [06:29, 113.88it/s]\n",
      "11088it [01:29, 124.34it/s]\n"
     ]
    }
   ],
   "source": [
    "train_mfcc, train_labels = get_mfcc_feature(train, True)\n",
    "val_mfcc, val_labels = get_mfcc_feature(val, True)"
   ]
  },
  {
   "cell_type": "code",
   "execution_count": 11,
   "metadata": {},
   "outputs": [],
   "source": [
    "if not os.path.exists('./mfcc'):\n",
    "    os.makedirs('./mfcc', exist_ok=True)\n",
    "\n",
    "np.save('./mfcc/train_mfcc.npy', train_mfcc)\n",
    "np.save('./mfcc/train_labels.npy', train_labels)\n",
    "np.save('./mfcc/val_mfcc.npy', val_mfcc)\n",
    "np.save('./mfcc/val_labels.npy', val_labels)"
   ]
  },
  {
   "cell_type": "code",
   "execution_count": 19,
   "metadata": {},
   "outputs": [
    {
     "name": "stdout",
     "output_type": "stream",
     "text": [
      "RandomForestClassifier(random_state=42)\n",
      "5\n"
     ]
    }
   ],
   "source": [
    "from sklearn.ensemble import RandomForestClassifier\n",
    "from sklearn.model_selection import KFold\n",
    "\n",
    "model = RandomForestClassifier(n_estimators=100, random_state=CONFIG.SEED)\n",
    "kf = KFold(n_splits=5, random_state=CONFIG.SEED, shuffle=True)\n",
    "\n",
    "print(model)\n",
    "print(kf.get_n_splits(train_mfcc))"
   ]
  },
  {
   "cell_type": "code",
   "execution_count": 29,
   "metadata": {},
   "outputs": [
    {
     "name": "stdout",
     "output_type": "stream",
     "text": [
      "               0           1          2          3          4          5   \\\n",
      "0     -248.033279  150.792999 -35.178806  59.451466  10.164450   9.027971   \n",
      "1     -323.560699  136.979355 -45.662029  23.387531  15.381805  -6.980533   \n",
      "2     -311.442993  135.454391 -23.391869  22.338968 -10.303095 -23.955645   \n",
      "3     -217.945770  168.685394 -24.134439  60.136875  12.705692  15.668672   \n",
      "4     -246.821243  173.011795 -23.041840  52.638878   2.757993  11.924505   \n",
      "...           ...         ...        ...        ...        ...        ...   \n",
      "44345 -310.470673  217.360565 -19.847445  -7.339335  23.072023 -14.942649   \n",
      "44346 -281.431183  127.880753 -34.482655  36.695858 -13.862648 -21.928667   \n",
      "44347 -272.382874  140.753525  -8.920831  53.356968  11.156157  11.615736   \n",
      "44348 -297.979004  194.519455 -27.022598  42.725582  -1.917439 -13.344779   \n",
      "44349 -223.302826  168.091888  -9.389204  35.624546 -12.929810  -1.581608   \n",
      "\n",
      "              6          7          8          9          10         11  \\\n",
      "0      17.630726  -8.810722  15.724798 -10.060987  -0.702325   8.352351   \n",
      "1       4.615310 -13.731725 -11.469634  -5.895562 -10.248756 -10.925428   \n",
      "2     -12.519374 -20.369619 -12.594061 -12.684278  -7.604035 -11.120655   \n",
      "3       8.918754  -9.462871  13.406505 -20.569906   1.969439   7.005382   \n",
      "4      12.830193  -9.934871  12.311728 -20.847734  -5.873992   1.143266   \n",
      "...          ...        ...        ...        ...        ...        ...   \n",
      "44345  -8.319149   2.852400 -15.823026 -12.685380  -0.431250  -5.073600   \n",
      "44346 -13.654945 -25.878748  -4.933894  -7.954777  -5.470181 -15.087194   \n",
      "44347  12.710963 -12.966864   4.000156 -18.189531  -9.504268   3.826554   \n",
      "44348  17.249582 -17.492172   0.505074  -0.351013  -7.302559  13.007685   \n",
      "44349   8.031857  -9.065420   2.088205 -17.466932  -8.546219 -16.946409   \n",
      "\n",
      "              12  \n",
      "0     -14.153209  \n",
      "1      -6.688677  \n",
      "2      -7.186422  \n",
      "3     -16.614031  \n",
      "4     -13.006096  \n",
      "...          ...  \n",
      "44345  -7.915131  \n",
      "44346  -9.772498  \n",
      "44347 -10.243999  \n",
      "44348  -8.139091  \n",
      "44349 -20.583427  \n",
      "\n",
      "[44350 rows x 13 columns]\n"
     ]
    }
   ],
   "source": [
    "print(pd.DataFrame(train_mfcc))"
   ]
  },
  {
   "cell_type": "code",
   "execution_count": 31,
   "metadata": {},
   "outputs": [
    {
     "name": "stdout",
     "output_type": "stream",
     "text": [
      "Acc :  0.9613303269447576\n",
      "Acc :  0.9591882750845547\n",
      "Acc :  0.9556933483652762\n",
      "Acc :  0.9595264937993235\n",
      "Acc :  0.9620067643742953\n",
      "Model trained in: 36.29 seconds.\n"
     ]
    }
   ],
   "source": [
    "import time\n",
    "from sklearn.metrics import accuracy_score\n",
    "start = time.time()\n",
    "acc = []\n",
    "\n",
    "for train_index, test_index in kf.split(train_mfcc):\n",
    "    X_train, X_test = np.array(train_mfcc)[train_index], np.array(train_mfcc)[test_index]\n",
    "    y_train, y_test = np.array(train_labels)[train_index], np.array(train_labels)[test_index]\n",
    "\n",
    "    model.fit(X_train, y_train)\n",
    "    pred = model.predict(X_test)\n",
    "    print('Acc : ', accuracy_score(y_test, pred))\n",
    "    acc.append(accuracy_score(y_test, pred))\n",
    "\n",
    "end = time.time()\n",
    "timeTaken = (end - start)\n",
    "print(\"Model trained in: \" + str( round(timeTaken, 2) ) + \" seconds.\")\n"
   ]
  },
  {
   "cell_type": "markdown",
   "metadata": {},
   "source": [
    "## Parameter tuning"
   ]
  },
  {
   "cell_type": "code",
   "execution_count": 32,
   "metadata": {},
   "outputs": [
    {
     "name": "stdout",
     "output_type": "stream",
     "text": [
      "최적 하이퍼 파라미터:  {'max_depth': 12, 'min_samples_leaf': 8, 'min_samples_split': 20, 'n_estimators': 100}\n",
      "최고 예측 정확도: 0.9430\n"
     ]
    }
   ],
   "source": [
    "from sklearn.model_selection import GridSearchCV\n",
    "\n",
    "params = { 'n_estimators' : [10, 50,100],\n",
    "           'max_depth' : [6, 8, 10, 12],\n",
    "           'min_samples_leaf' : [8, 12, 18],\n",
    "           'min_samples_split' : [8, 16, 20]\n",
    "            }\n",
    "\n",
    "# RandomForestClassifier 객체 생성 후 GridSearchCV 수행\n",
    "rf_clf = RandomForestClassifier(random_state = CONFIG.SEED)\n",
    "grid_cv = GridSearchCV(rf_clf, param_grid = params, cv = 5)\n",
    "grid_cv.fit(train_mfcc, train_labels )\n",
    "\n",
    "print('최적 하이퍼 파라미터: ', grid_cv.best_params_)\n",
    "print('최고 예측 정확도: {:.4f}'.format(grid_cv.best_score_))"
   ]
  },
  {
   "cell_type": "code",
   "execution_count": 33,
   "metadata": {},
   "outputs": [
    {
     "name": "stdout",
     "output_type": "stream",
     "text": [
      "최적 하이퍼 파라미터:  {'max_depth': 14, 'min_samples_leaf': 8, 'min_samples_split': 18, 'n_estimators': 150}\n",
      "최고 예측 정확도: 0.9489\n"
     ]
    }
   ],
   "source": [
    "from sklearn.model_selection import GridSearchCV\n",
    "\n",
    "params = { 'n_estimators' : [75,100, 125, 150],\n",
    "           'max_depth' : [11,12,13,14],\n",
    "           'min_samples_leaf' : [6,7,8,9],\n",
    "           'min_samples_split' : [18,20,22,24]\n",
    "            }\n",
    "\n",
    "# RandomForestClassifier 객체 생성 후 GridSearchCV 수행\n",
    "rf_clf = RandomForestClassifier(random_state = CONFIG.SEED)\n",
    "grid_cv = GridSearchCV(rf_clf, param_grid = params, cv = 5, n_jobs=-1)\n",
    "grid_cv.fit(train_mfcc, train_labels )\n",
    "\n",
    "print('최적 하이퍼 파라미터: ', grid_cv.best_params_)\n",
    "print('최고 예측 정확도: {:.4f}'.format(grid_cv.best_score_))"
   ]
  },
  {
   "cell_type": "code",
   "execution_count": null,
   "metadata": {},
   "outputs": [],
   "source": [
    "from sklearn.model_selection import GridSearchCV\n",
    "\n",
    "params = { 'n_estimators' : [150, 180],\n",
    "           'max_depth' : [14,15],\n",
    "           'min_samples_leaf' : [7,8],\n",
    "           'min_samples_split' : [17,18]\n",
    "            }\n",
    "\n",
    "# RandomForestClassifier 객체 생성 후 GridSearchCV 수행\n",
    "rf_clf = RandomForestClassifier(random_state = CONFIG.SEED)\n",
    "grid_cv = GridSearchCV(rf_clf, param_grid = params, cv = 5, verbose=2)\n",
    "grid_cv.fit(train_mfcc, train_labels )\n",
    "\n",
    "print('최적 하이퍼 파라미터: ', grid_cv.best_params_)\n",
    "print('최고 예측 정확도: {:.4f}'.format(grid_cv.best_score_))\n",
    "'''\n",
    "최적 하이퍼 파라미터:  {'max_depth': 15, 'min_samples_leaf': 7, 'min_samples_split': 17, 'n_estimators': 150}\n",
    "최고 예측 정확도: 0.9511\n",
    "'''"
   ]
  },
  {
   "cell_type": "code",
   "execution_count": 42,
   "metadata": {},
   "outputs": [
    {
     "name": "stdout",
     "output_type": "stream",
     "text": [
      "Fitting 5 folds for each of 54 candidates, totalling 270 fits\n",
      "[CV] END max_depth=15, min_samples_leaf=6, min_samples_split=16, n_estimators=148; total time=   9.7s\n",
      "[CV] END max_depth=15, min_samples_leaf=6, min_samples_split=16, n_estimators=148; total time=   9.7s\n",
      "[CV] END max_depth=15, min_samples_leaf=6, min_samples_split=16, n_estimators=148; total time=   9.7s\n",
      "[CV] END max_depth=15, min_samples_leaf=6, min_samples_split=16, n_estimators=148; total time=   9.9s\n",
      "[CV] END max_depth=15, min_samples_leaf=6, min_samples_split=16, n_estimators=148; total time=   9.8s\n",
      "[CV] END max_depth=15, min_samples_leaf=6, min_samples_split=16, n_estimators=150; total time=  10.0s\n",
      "[CV] END max_depth=15, min_samples_leaf=6, min_samples_split=16, n_estimators=150; total time=   9.9s\n",
      "[CV] END max_depth=15, min_samples_leaf=6, min_samples_split=16, n_estimators=150; total time=   9.9s\n",
      "[CV] END max_depth=15, min_samples_leaf=6, min_samples_split=16, n_estimators=150; total time=   9.9s\n",
      "[CV] END max_depth=15, min_samples_leaf=6, min_samples_split=16, n_estimators=150; total time=   9.9s\n",
      "[CV] END max_depth=15, min_samples_leaf=6, min_samples_split=16, n_estimators=152; total time=  10.1s\n",
      "[CV] END max_depth=15, min_samples_leaf=6, min_samples_split=16, n_estimators=152; total time=  10.1s\n",
      "[CV] END max_depth=15, min_samples_leaf=6, min_samples_split=16, n_estimators=152; total time=  10.1s\n",
      "[CV] END max_depth=15, min_samples_leaf=6, min_samples_split=16, n_estimators=152; total time=  10.1s\n",
      "[CV] END max_depth=15, min_samples_leaf=6, min_samples_split=16, n_estimators=152; total time=  10.0s\n",
      "[CV] END max_depth=15, min_samples_leaf=6, min_samples_split=17, n_estimators=148; total time=   9.7s\n",
      "[CV] END max_depth=15, min_samples_leaf=6, min_samples_split=17, n_estimators=148; total time=   9.9s\n",
      "[CV] END max_depth=15, min_samples_leaf=6, min_samples_split=17, n_estimators=148; total time=   9.9s\n",
      "[CV] END max_depth=15, min_samples_leaf=6, min_samples_split=17, n_estimators=148; total time=   9.8s\n",
      "[CV] END max_depth=15, min_samples_leaf=6, min_samples_split=17, n_estimators=148; total time=   9.8s\n",
      "[CV] END max_depth=15, min_samples_leaf=6, min_samples_split=17, n_estimators=150; total time=   9.9s\n",
      "[CV] END max_depth=15, min_samples_leaf=6, min_samples_split=17, n_estimators=150; total time=   9.9s\n",
      "[CV] END max_depth=15, min_samples_leaf=6, min_samples_split=17, n_estimators=150; total time=   9.9s\n",
      "[CV] END max_depth=15, min_samples_leaf=6, min_samples_split=17, n_estimators=150; total time=   9.9s\n",
      "[CV] END max_depth=15, min_samples_leaf=6, min_samples_split=17, n_estimators=150; total time=   9.9s\n",
      "[CV] END max_depth=15, min_samples_leaf=6, min_samples_split=17, n_estimators=152; total time=  10.0s\n",
      "[CV] END max_depth=15, min_samples_leaf=6, min_samples_split=17, n_estimators=152; total time=  10.1s\n",
      "[CV] END max_depth=15, min_samples_leaf=6, min_samples_split=17, n_estimators=152; total time=  10.1s\n",
      "[CV] END max_depth=15, min_samples_leaf=6, min_samples_split=17, n_estimators=152; total time=  10.1s\n",
      "[CV] END max_depth=15, min_samples_leaf=6, min_samples_split=17, n_estimators=152; total time=  10.0s\n",
      "[CV] END max_depth=15, min_samples_leaf=6, min_samples_split=18, n_estimators=148; total time=   9.8s\n",
      "[CV] END max_depth=15, min_samples_leaf=6, min_samples_split=18, n_estimators=148; total time=   9.8s\n",
      "[CV] END max_depth=15, min_samples_leaf=6, min_samples_split=18, n_estimators=148; total time=   9.8s\n",
      "[CV] END max_depth=15, min_samples_leaf=6, min_samples_split=18, n_estimators=148; total time=   9.8s\n",
      "[CV] END max_depth=15, min_samples_leaf=6, min_samples_split=18, n_estimators=148; total time=   9.8s\n",
      "[CV] END max_depth=15, min_samples_leaf=6, min_samples_split=18, n_estimators=150; total time=   9.9s\n",
      "[CV] END max_depth=15, min_samples_leaf=6, min_samples_split=18, n_estimators=150; total time=   9.9s\n",
      "[CV] END max_depth=15, min_samples_leaf=6, min_samples_split=18, n_estimators=150; total time=   9.9s\n",
      "[CV] END max_depth=15, min_samples_leaf=6, min_samples_split=18, n_estimators=150; total time=   9.9s\n",
      "[CV] END max_depth=15, min_samples_leaf=6, min_samples_split=18, n_estimators=150; total time=   9.9s\n",
      "[CV] END max_depth=15, min_samples_leaf=6, min_samples_split=18, n_estimators=152; total time=  10.0s\n",
      "[CV] END max_depth=15, min_samples_leaf=6, min_samples_split=18, n_estimators=152; total time=  10.0s\n",
      "[CV] END max_depth=15, min_samples_leaf=6, min_samples_split=18, n_estimators=152; total time=  10.1s\n",
      "[CV] END max_depth=15, min_samples_leaf=6, min_samples_split=18, n_estimators=152; total time=  10.0s\n",
      "[CV] END max_depth=15, min_samples_leaf=6, min_samples_split=18, n_estimators=152; total time=  10.1s\n",
      "[CV] END max_depth=15, min_samples_leaf=7, min_samples_split=16, n_estimators=148; total time=   9.8s\n",
      "[CV] END max_depth=15, min_samples_leaf=7, min_samples_split=16, n_estimators=148; total time=   9.7s\n",
      "[CV] END max_depth=15, min_samples_leaf=7, min_samples_split=16, n_estimators=148; total time=   9.7s\n",
      "[CV] END max_depth=15, min_samples_leaf=7, min_samples_split=16, n_estimators=148; total time=   9.7s\n",
      "[CV] END max_depth=15, min_samples_leaf=7, min_samples_split=16, n_estimators=148; total time=   9.7s\n",
      "[CV] END max_depth=15, min_samples_leaf=7, min_samples_split=16, n_estimators=150; total time=   9.9s\n",
      "[CV] END max_depth=15, min_samples_leaf=7, min_samples_split=16, n_estimators=150; total time=   9.9s\n",
      "[CV] END max_depth=15, min_samples_leaf=7, min_samples_split=16, n_estimators=150; total time= 8.3min\n",
      "[CV] END max_depth=15, min_samples_leaf=7, min_samples_split=16, n_estimators=150; total time=   9.4s\n",
      "[CV] END max_depth=15, min_samples_leaf=7, min_samples_split=16, n_estimators=150; total time=   9.3s\n",
      "[CV] END max_depth=15, min_samples_leaf=7, min_samples_split=16, n_estimators=152; total time=   9.5s\n",
      "[CV] END max_depth=15, min_samples_leaf=7, min_samples_split=16, n_estimators=152; total time=   9.5s\n",
      "[CV] END max_depth=15, min_samples_leaf=7, min_samples_split=16, n_estimators=152; total time=   9.6s\n",
      "[CV] END max_depth=15, min_samples_leaf=7, min_samples_split=16, n_estimators=152; total time=   9.5s\n",
      "[CV] END max_depth=15, min_samples_leaf=7, min_samples_split=16, n_estimators=152; total time=   9.5s\n",
      "[CV] END max_depth=15, min_samples_leaf=7, min_samples_split=17, n_estimators=148; total time=   9.4s\n",
      "[CV] END max_depth=15, min_samples_leaf=7, min_samples_split=17, n_estimators=148; total time=   9.4s\n",
      "[CV] END max_depth=15, min_samples_leaf=7, min_samples_split=17, n_estimators=148; total time=   9.4s\n",
      "[CV] END max_depth=15, min_samples_leaf=7, min_samples_split=17, n_estimators=148; total time=   9.5s\n",
      "[CV] END max_depth=15, min_samples_leaf=7, min_samples_split=17, n_estimators=148; total time=   9.5s\n",
      "[CV] END max_depth=15, min_samples_leaf=7, min_samples_split=17, n_estimators=150; total time=   9.9s\n",
      "[CV] END max_depth=15, min_samples_leaf=7, min_samples_split=17, n_estimators=150; total time=  10.9s\n",
      "[CV] END max_depth=15, min_samples_leaf=7, min_samples_split=17, n_estimators=150; total time=   9.8s\n",
      "[CV] END max_depth=15, min_samples_leaf=7, min_samples_split=17, n_estimators=150; total time=   9.9s\n",
      "[CV] END max_depth=15, min_samples_leaf=7, min_samples_split=17, n_estimators=150; total time=   9.7s\n",
      "[CV] END max_depth=15, min_samples_leaf=7, min_samples_split=17, n_estimators=152; total time=   9.9s\n",
      "[CV] END max_depth=15, min_samples_leaf=7, min_samples_split=17, n_estimators=152; total time=   9.9s\n",
      "[CV] END max_depth=15, min_samples_leaf=7, min_samples_split=17, n_estimators=152; total time=  10.0s\n",
      "[CV] END max_depth=15, min_samples_leaf=7, min_samples_split=17, n_estimators=152; total time=   9.9s\n",
      "[CV] END max_depth=15, min_samples_leaf=7, min_samples_split=17, n_estimators=152; total time=  10.0s\n",
      "[CV] END max_depth=15, min_samples_leaf=7, min_samples_split=18, n_estimators=148; total time=   9.8s\n",
      "[CV] END max_depth=15, min_samples_leaf=7, min_samples_split=18, n_estimators=148; total time=   9.7s\n",
      "[CV] END max_depth=15, min_samples_leaf=7, min_samples_split=18, n_estimators=148; total time=   9.6s\n",
      "[CV] END max_depth=15, min_samples_leaf=7, min_samples_split=18, n_estimators=148; total time=   9.6s\n",
      "[CV] END max_depth=15, min_samples_leaf=7, min_samples_split=18, n_estimators=148; total time=   9.7s\n",
      "[CV] END max_depth=15, min_samples_leaf=7, min_samples_split=18, n_estimators=150; total time=   9.8s\n",
      "[CV] END max_depth=15, min_samples_leaf=7, min_samples_split=18, n_estimators=150; total time=   9.8s\n",
      "[CV] END max_depth=15, min_samples_leaf=7, min_samples_split=18, n_estimators=150; total time=   9.8s\n",
      "[CV] END max_depth=15, min_samples_leaf=7, min_samples_split=18, n_estimators=150; total time=   9.8s\n",
      "[CV] END max_depth=15, min_samples_leaf=7, min_samples_split=18, n_estimators=150; total time=   9.8s\n",
      "[CV] END max_depth=15, min_samples_leaf=7, min_samples_split=18, n_estimators=152; total time=   9.9s\n",
      "[CV] END max_depth=15, min_samples_leaf=7, min_samples_split=18, n_estimators=152; total time=   9.9s\n",
      "[CV] END max_depth=15, min_samples_leaf=7, min_samples_split=18, n_estimators=152; total time=   9.9s\n",
      "[CV] END max_depth=15, min_samples_leaf=7, min_samples_split=18, n_estimators=152; total time=   9.9s\n",
      "[CV] END max_depth=15, min_samples_leaf=7, min_samples_split=18, n_estimators=152; total time=  10.0s\n",
      "[CV] END max_depth=15, min_samples_leaf=8, min_samples_split=16, n_estimators=148; total time=   9.7s\n",
      "[CV] END max_depth=15, min_samples_leaf=8, min_samples_split=16, n_estimators=148; total time=   9.7s\n",
      "[CV] END max_depth=15, min_samples_leaf=8, min_samples_split=16, n_estimators=148; total time=   9.7s\n",
      "[CV] END max_depth=15, min_samples_leaf=8, min_samples_split=16, n_estimators=148; total time=   9.7s\n",
      "[CV] END max_depth=15, min_samples_leaf=8, min_samples_split=16, n_estimators=148; total time=   9.7s\n",
      "[CV] END max_depth=15, min_samples_leaf=8, min_samples_split=16, n_estimators=150; total time=   9.8s\n",
      "[CV] END max_depth=15, min_samples_leaf=8, min_samples_split=16, n_estimators=150; total time=   9.8s\n",
      "[CV] END max_depth=15, min_samples_leaf=8, min_samples_split=16, n_estimators=150; total time=   9.8s\n",
      "[CV] END max_depth=15, min_samples_leaf=8, min_samples_split=16, n_estimators=150; total time=   9.8s\n",
      "[CV] END max_depth=15, min_samples_leaf=8, min_samples_split=16, n_estimators=150; total time=  10.8s\n",
      "[CV] END max_depth=15, min_samples_leaf=8, min_samples_split=16, n_estimators=152; total time=  10.1s\n",
      "[CV] END max_depth=15, min_samples_leaf=8, min_samples_split=16, n_estimators=152; total time=  10.1s\n",
      "[CV] END max_depth=15, min_samples_leaf=8, min_samples_split=16, n_estimators=152; total time=  10.1s\n",
      "[CV] END max_depth=15, min_samples_leaf=8, min_samples_split=16, n_estimators=152; total time=  10.1s\n",
      "[CV] END max_depth=15, min_samples_leaf=8, min_samples_split=16, n_estimators=152; total time=  10.0s\n",
      "[CV] END max_depth=15, min_samples_leaf=8, min_samples_split=17, n_estimators=148; total time=   9.7s\n",
      "[CV] END max_depth=15, min_samples_leaf=8, min_samples_split=17, n_estimators=148; total time=   9.7s\n",
      "[CV] END max_depth=15, min_samples_leaf=8, min_samples_split=17, n_estimators=148; total time=   9.8s\n",
      "[CV] END max_depth=15, min_samples_leaf=8, min_samples_split=17, n_estimators=148; total time=   9.8s\n",
      "[CV] END max_depth=15, min_samples_leaf=8, min_samples_split=17, n_estimators=148; total time=   9.8s\n",
      "[CV] END max_depth=15, min_samples_leaf=8, min_samples_split=17, n_estimators=150; total time=  10.2s\n",
      "[CV] END max_depth=15, min_samples_leaf=8, min_samples_split=17, n_estimators=150; total time=  10.1s\n",
      "[CV] END max_depth=15, min_samples_leaf=8, min_samples_split=17, n_estimators=150; total time=  10.1s\n",
      "[CV] END max_depth=15, min_samples_leaf=8, min_samples_split=17, n_estimators=150; total time=   9.9s\n",
      "[CV] END max_depth=15, min_samples_leaf=8, min_samples_split=17, n_estimators=150; total time=   9.9s\n",
      "[CV] END max_depth=15, min_samples_leaf=8, min_samples_split=17, n_estimators=152; total time=  10.0s\n",
      "[CV] END max_depth=15, min_samples_leaf=8, min_samples_split=17, n_estimators=152; total time=  10.1s\n",
      "[CV] END max_depth=15, min_samples_leaf=8, min_samples_split=17, n_estimators=152; total time=  10.2s\n",
      "[CV] END max_depth=15, min_samples_leaf=8, min_samples_split=17, n_estimators=152; total time=  10.5s\n",
      "[CV] END max_depth=15, min_samples_leaf=8, min_samples_split=17, n_estimators=152; total time=  10.1s\n",
      "[CV] END max_depth=15, min_samples_leaf=8, min_samples_split=18, n_estimators=148; total time=   9.8s\n",
      "[CV] END max_depth=15, min_samples_leaf=8, min_samples_split=18, n_estimators=148; total time=   9.7s\n",
      "[CV] END max_depth=15, min_samples_leaf=8, min_samples_split=18, n_estimators=148; total time=  10.3s\n",
      "[CV] END max_depth=15, min_samples_leaf=8, min_samples_split=18, n_estimators=148; total time=  10.2s\n",
      "[CV] END max_depth=15, min_samples_leaf=8, min_samples_split=18, n_estimators=148; total time=   9.8s\n",
      "[CV] END max_depth=15, min_samples_leaf=8, min_samples_split=18, n_estimators=150; total time=   9.9s\n",
      "[CV] END max_depth=15, min_samples_leaf=8, min_samples_split=18, n_estimators=150; total time=   9.8s\n",
      "[CV] END max_depth=15, min_samples_leaf=8, min_samples_split=18, n_estimators=150; total time=   9.9s\n",
      "[CV] END max_depth=15, min_samples_leaf=8, min_samples_split=18, n_estimators=150; total time=   9.9s\n",
      "[CV] END max_depth=15, min_samples_leaf=8, min_samples_split=18, n_estimators=150; total time=   9.9s\n",
      "[CV] END max_depth=15, min_samples_leaf=8, min_samples_split=18, n_estimators=152; total time=  10.0s\n",
      "[CV] END max_depth=15, min_samples_leaf=8, min_samples_split=18, n_estimators=152; total time=  10.0s\n",
      "[CV] END max_depth=15, min_samples_leaf=8, min_samples_split=18, n_estimators=152; total time=  10.0s\n",
      "[CV] END max_depth=15, min_samples_leaf=8, min_samples_split=18, n_estimators=152; total time=  10.0s\n",
      "[CV] END max_depth=15, min_samples_leaf=8, min_samples_split=18, n_estimators=152; total time=  10.0s\n",
      "[CV] END max_depth=16, min_samples_leaf=6, min_samples_split=16, n_estimators=148; total time=  10.0s\n",
      "[CV] END max_depth=16, min_samples_leaf=6, min_samples_split=16, n_estimators=148; total time=  10.0s\n",
      "[CV] END max_depth=16, min_samples_leaf=6, min_samples_split=16, n_estimators=148; total time=  10.0s\n",
      "[CV] END max_depth=16, min_samples_leaf=6, min_samples_split=16, n_estimators=148; total time=  10.0s\n",
      "[CV] END max_depth=16, min_samples_leaf=6, min_samples_split=16, n_estimators=148; total time=  10.0s\n",
      "[CV] END max_depth=16, min_samples_leaf=6, min_samples_split=16, n_estimators=150; total time=  10.2s\n",
      "[CV] END max_depth=16, min_samples_leaf=6, min_samples_split=16, n_estimators=150; total time=  10.2s\n",
      "[CV] END max_depth=16, min_samples_leaf=6, min_samples_split=16, n_estimators=150; total time=  10.2s\n",
      "[CV] END max_depth=16, min_samples_leaf=6, min_samples_split=16, n_estimators=150; total time=  10.2s\n",
      "[CV] END max_depth=16, min_samples_leaf=6, min_samples_split=16, n_estimators=150; total time=  10.2s\n",
      "[CV] END max_depth=16, min_samples_leaf=6, min_samples_split=16, n_estimators=152; total time=  10.3s\n",
      "[CV] END max_depth=16, min_samples_leaf=6, min_samples_split=16, n_estimators=152; total time=  10.3s\n",
      "[CV] END max_depth=16, min_samples_leaf=6, min_samples_split=16, n_estimators=152; total time=  10.3s\n",
      "[CV] END max_depth=16, min_samples_leaf=6, min_samples_split=16, n_estimators=152; total time=  10.3s\n",
      "[CV] END max_depth=16, min_samples_leaf=6, min_samples_split=16, n_estimators=152; total time=  10.3s\n",
      "[CV] END max_depth=16, min_samples_leaf=6, min_samples_split=17, n_estimators=148; total time=  10.0s\n",
      "[CV] END max_depth=16, min_samples_leaf=6, min_samples_split=17, n_estimators=148; total time=  10.0s\n",
      "[CV] END max_depth=16, min_samples_leaf=6, min_samples_split=17, n_estimators=148; total time=  10.0s\n",
      "[CV] END max_depth=16, min_samples_leaf=6, min_samples_split=17, n_estimators=148; total time=  10.0s\n",
      "[CV] END max_depth=16, min_samples_leaf=6, min_samples_split=17, n_estimators=148; total time=  10.0s\n",
      "[CV] END max_depth=16, min_samples_leaf=6, min_samples_split=17, n_estimators=150; total time=  10.2s\n",
      "[CV] END max_depth=16, min_samples_leaf=6, min_samples_split=17, n_estimators=150; total time=  10.1s\n",
      "[CV] END max_depth=16, min_samples_leaf=6, min_samples_split=17, n_estimators=150; total time=  10.3s\n",
      "[CV] END max_depth=16, min_samples_leaf=6, min_samples_split=17, n_estimators=150; total time=  10.1s\n",
      "[CV] END max_depth=16, min_samples_leaf=6, min_samples_split=17, n_estimators=150; total time=  10.1s\n",
      "[CV] END max_depth=16, min_samples_leaf=6, min_samples_split=17, n_estimators=152; total time=  10.2s\n",
      "[CV] END max_depth=16, min_samples_leaf=6, min_samples_split=17, n_estimators=152; total time=  10.2s\n",
      "[CV] END max_depth=16, min_samples_leaf=6, min_samples_split=17, n_estimators=152; total time=  10.2s\n",
      "[CV] END max_depth=16, min_samples_leaf=6, min_samples_split=17, n_estimators=152; total time=  10.3s\n",
      "[CV] END max_depth=16, min_samples_leaf=6, min_samples_split=17, n_estimators=152; total time=  10.2s\n",
      "[CV] END max_depth=16, min_samples_leaf=6, min_samples_split=18, n_estimators=148; total time=  10.0s\n",
      "[CV] END max_depth=16, min_samples_leaf=6, min_samples_split=18, n_estimators=148; total time=   9.9s\n",
      "[CV] END max_depth=16, min_samples_leaf=6, min_samples_split=18, n_estimators=148; total time=  10.0s\n",
      "[CV] END max_depth=16, min_samples_leaf=6, min_samples_split=18, n_estimators=148; total time=  10.0s\n",
      "[CV] END max_depth=16, min_samples_leaf=6, min_samples_split=18, n_estimators=148; total time=  10.0s\n",
      "[CV] END max_depth=16, min_samples_leaf=6, min_samples_split=18, n_estimators=150; total time=  10.1s\n",
      "[CV] END max_depth=16, min_samples_leaf=6, min_samples_split=18, n_estimators=150; total time=  10.1s\n",
      "[CV] END max_depth=16, min_samples_leaf=6, min_samples_split=18, n_estimators=150; total time=  10.1s\n",
      "[CV] END max_depth=16, min_samples_leaf=6, min_samples_split=18, n_estimators=150; total time=  10.1s\n",
      "[CV] END max_depth=16, min_samples_leaf=6, min_samples_split=18, n_estimators=150; total time=  10.1s\n",
      "[CV] END max_depth=16, min_samples_leaf=6, min_samples_split=18, n_estimators=152; total time=  10.3s\n",
      "[CV] END max_depth=16, min_samples_leaf=6, min_samples_split=18, n_estimators=152; total time=  10.2s\n",
      "[CV] END max_depth=16, min_samples_leaf=6, min_samples_split=18, n_estimators=152; total time=  10.3s\n",
      "[CV] END max_depth=16, min_samples_leaf=6, min_samples_split=18, n_estimators=152; total time=  10.3s\n",
      "[CV] END max_depth=16, min_samples_leaf=6, min_samples_split=18, n_estimators=152; total time=  10.2s\n",
      "[CV] END max_depth=16, min_samples_leaf=7, min_samples_split=16, n_estimators=148; total time=  10.0s\n",
      "[CV] END max_depth=16, min_samples_leaf=7, min_samples_split=16, n_estimators=148; total time=   9.9s\n",
      "[CV] END max_depth=16, min_samples_leaf=7, min_samples_split=16, n_estimators=148; total time=  10.0s\n",
      "[CV] END max_depth=16, min_samples_leaf=7, min_samples_split=16, n_estimators=148; total time=  10.0s\n",
      "[CV] END max_depth=16, min_samples_leaf=7, min_samples_split=16, n_estimators=148; total time=   9.9s\n",
      "[CV] END max_depth=16, min_samples_leaf=7, min_samples_split=16, n_estimators=150; total time=  10.1s\n",
      "[CV] END max_depth=16, min_samples_leaf=7, min_samples_split=16, n_estimators=150; total time=  10.1s\n",
      "[CV] END max_depth=16, min_samples_leaf=7, min_samples_split=16, n_estimators=150; total time=  10.1s\n",
      "[CV] END max_depth=16, min_samples_leaf=7, min_samples_split=16, n_estimators=150; total time=  10.1s\n",
      "[CV] END max_depth=16, min_samples_leaf=7, min_samples_split=16, n_estimators=150; total time=  10.1s\n",
      "[CV] END max_depth=16, min_samples_leaf=7, min_samples_split=16, n_estimators=152; total time=  10.3s\n",
      "[CV] END max_depth=16, min_samples_leaf=7, min_samples_split=16, n_estimators=152; total time=  10.2s\n",
      "[CV] END max_depth=16, min_samples_leaf=7, min_samples_split=16, n_estimators=152; total time=  10.2s\n",
      "[CV] END max_depth=16, min_samples_leaf=7, min_samples_split=16, n_estimators=152; total time=  10.2s\n",
      "[CV] END max_depth=16, min_samples_leaf=7, min_samples_split=16, n_estimators=152; total time=  10.2s\n",
      "[CV] END max_depth=16, min_samples_leaf=7, min_samples_split=17, n_estimators=148; total time=  10.0s\n",
      "[CV] END max_depth=16, min_samples_leaf=7, min_samples_split=17, n_estimators=148; total time=   9.9s\n",
      "[CV] END max_depth=16, min_samples_leaf=7, min_samples_split=17, n_estimators=148; total time=  10.0s\n",
      "[CV] END max_depth=16, min_samples_leaf=7, min_samples_split=17, n_estimators=148; total time=   9.9s\n",
      "[CV] END max_depth=16, min_samples_leaf=7, min_samples_split=17, n_estimators=148; total time=   9.9s\n",
      "[CV] END max_depth=16, min_samples_leaf=7, min_samples_split=17, n_estimators=150; total time=  10.1s\n",
      "[CV] END max_depth=16, min_samples_leaf=7, min_samples_split=17, n_estimators=150; total time=  10.0s\n",
      "[CV] END max_depth=16, min_samples_leaf=7, min_samples_split=17, n_estimators=150; total time=  10.1s\n",
      "[CV] END max_depth=16, min_samples_leaf=7, min_samples_split=17, n_estimators=150; total time=  10.1s\n",
      "[CV] END max_depth=16, min_samples_leaf=7, min_samples_split=17, n_estimators=150; total time=  10.1s\n",
      "[CV] END max_depth=16, min_samples_leaf=7, min_samples_split=17, n_estimators=152; total time=  10.3s\n",
      "[CV] END max_depth=16, min_samples_leaf=7, min_samples_split=17, n_estimators=152; total time=  10.3s\n",
      "[CV] END max_depth=16, min_samples_leaf=7, min_samples_split=17, n_estimators=152; total time=  10.2s\n",
      "[CV] END max_depth=16, min_samples_leaf=7, min_samples_split=17, n_estimators=152; total time=  10.2s\n",
      "[CV] END max_depth=16, min_samples_leaf=7, min_samples_split=17, n_estimators=152; total time=  10.2s\n",
      "[CV] END max_depth=16, min_samples_leaf=7, min_samples_split=18, n_estimators=148; total time=  10.0s\n",
      "[CV] END max_depth=16, min_samples_leaf=7, min_samples_split=18, n_estimators=148; total time=   9.9s\n",
      "[CV] END max_depth=16, min_samples_leaf=7, min_samples_split=18, n_estimators=148; total time=  10.0s\n",
      "[CV] END max_depth=16, min_samples_leaf=7, min_samples_split=18, n_estimators=148; total time=  10.0s\n",
      "[CV] END max_depth=16, min_samples_leaf=7, min_samples_split=18, n_estimators=148; total time=   9.9s\n",
      "[CV] END max_depth=16, min_samples_leaf=7, min_samples_split=18, n_estimators=150; total time=  10.1s\n",
      "[CV] END max_depth=16, min_samples_leaf=7, min_samples_split=18, n_estimators=150; total time=  10.1s\n",
      "[CV] END max_depth=16, min_samples_leaf=7, min_samples_split=18, n_estimators=150; total time=  10.1s\n",
      "[CV] END max_depth=16, min_samples_leaf=7, min_samples_split=18, n_estimators=150; total time=  10.2s\n",
      "[CV] END max_depth=16, min_samples_leaf=7, min_samples_split=18, n_estimators=150; total time=  10.1s\n",
      "[CV] END max_depth=16, min_samples_leaf=7, min_samples_split=18, n_estimators=152; total time=  10.3s\n",
      "[CV] END max_depth=16, min_samples_leaf=7, min_samples_split=18, n_estimators=152; total time=  10.2s\n",
      "[CV] END max_depth=16, min_samples_leaf=7, min_samples_split=18, n_estimators=152; total time=  10.2s\n",
      "[CV] END max_depth=16, min_samples_leaf=7, min_samples_split=18, n_estimators=152; total time=  10.3s\n",
      "[CV] END max_depth=16, min_samples_leaf=7, min_samples_split=18, n_estimators=152; total time=  10.2s\n",
      "[CV] END max_depth=16, min_samples_leaf=8, min_samples_split=16, n_estimators=148; total time=  10.0s\n",
      "[CV] END max_depth=16, min_samples_leaf=8, min_samples_split=16, n_estimators=148; total time=   9.9s\n",
      "[CV] END max_depth=16, min_samples_leaf=8, min_samples_split=16, n_estimators=148; total time=   9.9s\n",
      "[CV] END max_depth=16, min_samples_leaf=8, min_samples_split=16, n_estimators=148; total time=  10.0s\n",
      "[CV] END max_depth=16, min_samples_leaf=8, min_samples_split=16, n_estimators=148; total time=   9.9s\n",
      "[CV] END max_depth=16, min_samples_leaf=8, min_samples_split=16, n_estimators=150; total time=  10.1s\n",
      "[CV] END max_depth=16, min_samples_leaf=8, min_samples_split=16, n_estimators=150; total time=  10.0s\n",
      "[CV] END max_depth=16, min_samples_leaf=8, min_samples_split=16, n_estimators=150; total time=  10.1s\n",
      "[CV] END max_depth=16, min_samples_leaf=8, min_samples_split=16, n_estimators=150; total time=  10.1s\n",
      "[CV] END max_depth=16, min_samples_leaf=8, min_samples_split=16, n_estimators=150; total time=  10.1s\n",
      "[CV] END max_depth=16, min_samples_leaf=8, min_samples_split=16, n_estimators=152; total time=  10.2s\n",
      "[CV] END max_depth=16, min_samples_leaf=8, min_samples_split=16, n_estimators=152; total time=  10.2s\n",
      "[CV] END max_depth=16, min_samples_leaf=8, min_samples_split=16, n_estimators=152; total time=  10.2s\n",
      "[CV] END max_depth=16, min_samples_leaf=8, min_samples_split=16, n_estimators=152; total time=  10.2s\n",
      "[CV] END max_depth=16, min_samples_leaf=8, min_samples_split=16, n_estimators=152; total time=  10.2s\n",
      "[CV] END max_depth=16, min_samples_leaf=8, min_samples_split=17, n_estimators=148; total time=   9.9s\n",
      "[CV] END max_depth=16, min_samples_leaf=8, min_samples_split=17, n_estimators=148; total time=   9.9s\n",
      "[CV] END max_depth=16, min_samples_leaf=8, min_samples_split=17, n_estimators=148; total time=   9.9s\n",
      "[CV] END max_depth=16, min_samples_leaf=8, min_samples_split=17, n_estimators=148; total time=   9.9s\n",
      "[CV] END max_depth=16, min_samples_leaf=8, min_samples_split=17, n_estimators=148; total time=   9.9s\n",
      "[CV] END max_depth=16, min_samples_leaf=8, min_samples_split=17, n_estimators=150; total time=  10.1s\n",
      "[CV] END max_depth=16, min_samples_leaf=8, min_samples_split=17, n_estimators=150; total time=  10.1s\n",
      "[CV] END max_depth=16, min_samples_leaf=8, min_samples_split=17, n_estimators=150; total time=  10.0s\n",
      "[CV] END max_depth=16, min_samples_leaf=8, min_samples_split=17, n_estimators=150; total time=  10.0s\n",
      "[CV] END max_depth=16, min_samples_leaf=8, min_samples_split=17, n_estimators=150; total time=  10.0s\n",
      "[CV] END max_depth=16, min_samples_leaf=8, min_samples_split=17, n_estimators=152; total time=  10.2s\n",
      "[CV] END max_depth=16, min_samples_leaf=8, min_samples_split=17, n_estimators=152; total time=  10.2s\n",
      "[CV] END max_depth=16, min_samples_leaf=8, min_samples_split=17, n_estimators=152; total time=  10.2s\n",
      "[CV] END max_depth=16, min_samples_leaf=8, min_samples_split=17, n_estimators=152; total time=  10.1s\n",
      "[CV] END max_depth=16, min_samples_leaf=8, min_samples_split=17, n_estimators=152; total time=  10.2s\n",
      "[CV] END max_depth=16, min_samples_leaf=8, min_samples_split=18, n_estimators=148; total time=   9.9s\n",
      "[CV] END max_depth=16, min_samples_leaf=8, min_samples_split=18, n_estimators=148; total time=   9.9s\n",
      "[CV] END max_depth=16, min_samples_leaf=8, min_samples_split=18, n_estimators=148; total time=   9.9s\n",
      "[CV] END max_depth=16, min_samples_leaf=8, min_samples_split=18, n_estimators=148; total time=   9.9s\n",
      "[CV] END max_depth=16, min_samples_leaf=8, min_samples_split=18, n_estimators=148; total time=   9.9s\n",
      "[CV] END max_depth=16, min_samples_leaf=8, min_samples_split=18, n_estimators=150; total time=  10.0s\n",
      "[CV] END max_depth=16, min_samples_leaf=8, min_samples_split=18, n_estimators=150; total time=  10.0s\n",
      "[CV] END max_depth=16, min_samples_leaf=8, min_samples_split=18, n_estimators=150; total time=  10.0s\n",
      "[CV] END max_depth=16, min_samples_leaf=8, min_samples_split=18, n_estimators=150; total time=  10.0s\n",
      "[CV] END max_depth=16, min_samples_leaf=8, min_samples_split=18, n_estimators=150; total time=   9.9s\n",
      "[CV] END max_depth=16, min_samples_leaf=8, min_samples_split=18, n_estimators=152; total time=  10.1s\n",
      "[CV] END max_depth=16, min_samples_leaf=8, min_samples_split=18, n_estimators=152; total time=  10.2s\n",
      "[CV] END max_depth=16, min_samples_leaf=8, min_samples_split=18, n_estimators=152; total time=  10.1s\n",
      "[CV] END max_depth=16, min_samples_leaf=8, min_samples_split=18, n_estimators=152; total time=  10.1s\n",
      "[CV] END max_depth=16, min_samples_leaf=8, min_samples_split=18, n_estimators=152; total time=  10.1s\n",
      "최적 하이퍼 파라미터:  {'max_depth': 16, 'min_samples_leaf': 6, 'min_samples_split': 16, 'n_estimators': 150}\n",
      "최고 예측 정확도: 0.9526\n"
     ]
    },
    {
     "data": {
      "text/plain": [
       "\"\\n최적 하이퍼 파라미터:  {'max_depth': 15, 'min_samples_leaf': 7, 'min_samples_split': 17, 'n_estimators': 150}\\n최고 예측 정확도: 0.9511\\n\""
      ]
     },
     "execution_count": 42,
     "metadata": {},
     "output_type": "execute_result"
    }
   ],
   "source": [
    "from sklearn.model_selection import GridSearchCV\n",
    "\n",
    "params = { 'n_estimators' : [148,150,152],\n",
    "           'max_depth' : [15,16],\n",
    "           'min_samples_leaf' : [6,7,8],\n",
    "           'min_samples_split' : [16,17,18]\n",
    "            }\n",
    "\n",
    "# RandomForestClassifier 객체 생성 후 GridSearchCV 수행\n",
    "rf_clf = RandomForestClassifier(random_state = CONFIG.SEED)\n",
    "grid_cv = GridSearchCV(rf_clf, param_grid = params, cv = 5, verbose=2)\n",
    "grid_cv.fit(train_mfcc, train_labels )\n",
    "\n",
    "print('최적 하이퍼 파라미터: ', grid_cv.best_params_)\n",
    "print('최고 예측 정확도: {:.4f}'.format(grid_cv.best_score_))\n",
    "'''\n",
    "최적 하이퍼 파라미터:  {'max_depth': 16, 'min_samples_leaf': 6, 'min_samples_split': 16, 'n_estimators': 150}\n",
    "최고 예측 정확도: 0.9526\n",
    "'''"
   ]
  },
  {
   "cell_type": "code",
   "execution_count": 59,
   "metadata": {},
   "outputs": [
    {
     "data": {
      "text/plain": [
       "44350"
      ]
     },
     "execution_count": 59,
     "metadata": {},
     "output_type": "execute_result"
    }
   ],
   "source": [
    "len(train_mfcc)"
   ]
  },
  {
   "cell_type": "code",
   "execution_count": 4,
   "metadata": {},
   "outputs": [
    {
     "ename": "NameError",
     "evalue": "name 'CONFIG' is not defined",
     "output_type": "error",
     "traceback": [
      "\u001b[0;31m---------------------------------------------------------------------------\u001b[0m",
      "\u001b[0;31mNameError\u001b[0m                                 Traceback (most recent call last)",
      "Cell \u001b[0;32mIn[4], line 10\u001b[0m\n\u001b[1;32m      1\u001b[0m \u001b[38;5;124;03m'''\u001b[39;00m\n\u001b[1;32m      2\u001b[0m \u001b[38;5;124;03m최적 하이퍼 파라미터:  {'max_depth': 16, 'min_samples_leaf': 6, 'min_samples_split': 16, 'n_estimators': 150}\u001b[39;00m\n\u001b[1;32m      3\u001b[0m \u001b[38;5;124;03m최고 예측 정확도: 0.9526\u001b[39;00m\n\u001b[1;32m      4\u001b[0m \u001b[38;5;124;03m'''\u001b[39;00m\n\u001b[1;32m      6\u001b[0m rf_clf1 \u001b[38;5;241m=\u001b[39m RandomForestClassifier(n_estimators \u001b[38;5;241m=\u001b[39m \u001b[38;5;241m150\u001b[39m, \n\u001b[1;32m      7\u001b[0m                                 max_depth \u001b[38;5;241m=\u001b[39m \u001b[38;5;241m16\u001b[39m,\n\u001b[1;32m      8\u001b[0m                                 min_samples_leaf \u001b[38;5;241m=\u001b[39m \u001b[38;5;241m6\u001b[39m,\n\u001b[1;32m      9\u001b[0m                                 min_samples_split \u001b[38;5;241m=\u001b[39m \u001b[38;5;241m16\u001b[39m,\n\u001b[0;32m---> 10\u001b[0m                                 random_state \u001b[38;5;241m=\u001b[39m\u001b[43mCONFIG\u001b[49m\u001b[38;5;241m.\u001b[39mSEED,\n\u001b[1;32m     11\u001b[0m                                 n_jobs \u001b[38;5;241m=\u001b[39m \u001b[38;5;241m-\u001b[39m\u001b[38;5;241m1\u001b[39m)\n\u001b[1;32m     12\u001b[0m rf_clf1\u001b[38;5;241m.\u001b[39mfit(train_mfcc, train_labels)\n\u001b[1;32m     13\u001b[0m pred \u001b[38;5;241m=\u001b[39m rf_clf1\u001b[38;5;241m.\u001b[39mpredict(X_test)\n",
      "\u001b[0;31mNameError\u001b[0m: name 'CONFIG' is not defined"
     ]
    }
   ],
   "source": [
    "'''\n",
    "최적 하이퍼 파라미터:  {'max_depth': 16, 'min_samples_leaf': 6, 'min_samples_split': 16, 'n_estimators': 150}\n",
    "최고 예측 정확도: 0.9526\n",
    "'''\n",
    "\n",
    "rf_clf1 = RandomForestClassifier(n_estimators = 150, \n",
    "                                max_depth = 16,\n",
    "                                min_samples_leaf = 6,\n",
    "                                min_samples_split = 16,\n",
    "                                random_state =CONFIG.SEED,\n",
    "                                n_jobs = -1)\n",
    "rf_clf1.fit(train_mfcc, train_labels)\n",
    "pred = rf_clf1.predict(X_test)\n",
    "print('예측 정확도: {:.4f}'.format(accuracy_score(y_test,pred)))# 이상함 수정해야함"
   ]
  },
  {
   "cell_type": "code",
   "execution_count": null,
   "metadata": {},
   "outputs": [],
   "source": [
    "#pred = rf_clf1.predict(val_mfcc)\n",
    "test = pd.read_csv('./test.csv')\n",
    "test_mfcc = get_mfcc_feature(test, False)\n",
    "print(test_mfcc)\n",
    "'''\n",
    "best_rf_clf = grid_cv.best_estimator_\n",
    "\n",
    "# 각 클래스의 확률을 예측\n",
    "probs = best_rf_clf.predict_proba(val_mfcc)\n",
    "\n",
    "print((probs))\n",
    "#print('예측 정확도: {:.4f}'.format(accuracy_score(val_labels,probs)))\n",
    "'''"
   ]
  },
  {
   "cell_type": "code",
   "execution_count": 63,
   "metadata": {},
   "outputs": [
    {
     "name": "stdout",
     "output_type": "stream",
     "text": [
      "[[0.55894033 0.44105967]\n",
      " [0.56468315 0.43531685]\n",
      " [0.71519872 0.28480128]\n",
      " ...\n",
      " [0.35262822 0.64737178]\n",
      " [0.0727997  0.9272003 ]\n",
      " [0.68620256 0.31379744]]\n"
     ]
    }
   ],
   "source": [
    "best_rf_clf = grid_cv.best_estimator_\n",
    "\n",
    "probs = best_rf_clf.predict_proba(test_mfcc)\n",
    "\n",
    "print(probs)"
   ]
  },
  {
   "cell_type": "code",
   "execution_count": 64,
   "metadata": {},
   "outputs": [
    {
     "data": {
      "text/html": [
       "<div>\n",
       "<style scoped>\n",
       "    .dataframe tbody tr th:only-of-type {\n",
       "        vertical-align: middle;\n",
       "    }\n",
       "\n",
       "    .dataframe tbody tr th {\n",
       "        vertical-align: top;\n",
       "    }\n",
       "\n",
       "    .dataframe thead th {\n",
       "        text-align: right;\n",
       "    }\n",
       "</style>\n",
       "<table border=\"1\" class=\"dataframe\">\n",
       "  <thead>\n",
       "    <tr style=\"text-align: right;\">\n",
       "      <th></th>\n",
       "      <th>id</th>\n",
       "      <th>fake</th>\n",
       "      <th>real</th>\n",
       "    </tr>\n",
       "  </thead>\n",
       "  <tbody>\n",
       "    <tr>\n",
       "      <th>0</th>\n",
       "      <td>TEST_00000</td>\n",
       "      <td>0.558940</td>\n",
       "      <td>0.441060</td>\n",
       "    </tr>\n",
       "    <tr>\n",
       "      <th>1</th>\n",
       "      <td>TEST_00001</td>\n",
       "      <td>0.564683</td>\n",
       "      <td>0.435317</td>\n",
       "    </tr>\n",
       "    <tr>\n",
       "      <th>2</th>\n",
       "      <td>TEST_00002</td>\n",
       "      <td>0.715199</td>\n",
       "      <td>0.284801</td>\n",
       "    </tr>\n",
       "    <tr>\n",
       "      <th>3</th>\n",
       "      <td>TEST_00003</td>\n",
       "      <td>0.048644</td>\n",
       "      <td>0.951356</td>\n",
       "    </tr>\n",
       "    <tr>\n",
       "      <th>4</th>\n",
       "      <td>TEST_00004</td>\n",
       "      <td>0.100908</td>\n",
       "      <td>0.899092</td>\n",
       "    </tr>\n",
       "  </tbody>\n",
       "</table>\n",
       "</div>"
      ],
      "text/plain": [
       "           id      fake      real\n",
       "0  TEST_00000  0.558940  0.441060\n",
       "1  TEST_00001  0.564683  0.435317\n",
       "2  TEST_00002  0.715199  0.284801\n",
       "3  TEST_00003  0.048644  0.951356\n",
       "4  TEST_00004  0.100908  0.899092"
      ]
     },
     "execution_count": 64,
     "metadata": {},
     "output_type": "execute_result"
    }
   ],
   "source": [
    "submit = pd.read_csv('./sample_submission.csv')\n",
    "submit.iloc[:, 1:] = probs\n",
    "submit.head()"
   ]
  },
  {
   "cell_type": "code",
   "execution_count": 65,
   "metadata": {},
   "outputs": [],
   "source": [
    "submit.to_csv('./RandomForest_submit.csv', index=False)"
   ]
  }
 ],
 "metadata": {
  "kernelspec": {
   "display_name": "Python 3 (ipykernel)",
   "language": "python",
   "name": "python3"
  },
  "language_info": {
   "codemirror_mode": {
    "name": "ipython",
    "version": 3
   },
   "file_extension": ".py",
   "mimetype": "text/x-python",
   "name": "python",
   "nbconvert_exporter": "python",
   "pygments_lexer": "ipython3",
   "version": "3.8.19"
  }
 },
 "nbformat": 4,
 "nbformat_minor": 4
}
