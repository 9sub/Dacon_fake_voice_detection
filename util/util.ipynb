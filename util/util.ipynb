{
 "cells": [
  {
   "cell_type": "code",
   "execution_count": 2,
   "metadata": {},
   "outputs": [
    {
     "name": "stderr",
     "output_type": "stream",
     "text": [
      "100%|██████████| 55438/55438 [00:21<00:00, 2565.44it/s]\n"
     ]
    }
   ],
   "source": [
    "import os\n",
    "import shutil\n",
    "import pandas as pd\n",
    "from tqdm import tqdm\n",
    "\n",
    "# CSV 파일 경로\n",
    "csv_file_path = './train.csv'\n",
    "\n",
    "# 출력 디렉토리\n",
    "fake_dir = './fake'\n",
    "real_dir = './real'\n",
    "\n",
    "# 출력 디렉토리가 존재하지 않으면 생성\n",
    "os.makedirs(fake_dir, exist_ok=True)\n",
    "os.makedirs(real_dir, exist_ok=True)\n",
    "\n",
    "# CSV 파일 읽기\n",
    "df = pd.read_csv(csv_file_path)\n",
    "\n",
    "# 파일을 라벨에 따라 각각의 디렉토리로 복사\n",
    "for _, row in tqdm(df.iterrows(), total=df.shape[0]):\n",
    "    file_path = row['path']\n",
    "    label = row['label']\n",
    "\n",
    "    if label == 'fake':\n",
    "        shutil.copy(file_path, os.path.join(fake_dir, os.path.basename(file_path)))\n",
    "    elif label == 'real':\n",
    "        shutil.copy(file_path, os.path.join(real_dir, os.path.basename(file_path)))"
   ]
  },
  {
   "cell_type": "code",
   "execution_count": 9,
   "metadata": {},
   "outputs": [
    {
     "name": "stdout",
     "output_type": "stream",
     "text": [
      "Collecting ffmpeg\n",
      "  Downloading ffmpeg-1.4.tar.gz (5.1 kB)\n",
      "  Preparing metadata (setup.py) ... \u001b[?25ldone\n",
      "\u001b[?25hBuilding wheels for collected packages: ffmpeg\n",
      "  Building wheel for ffmpeg (setup.py) ... \u001b[?25ldone\n",
      "\u001b[?25h  Created wheel for ffmpeg: filename=ffmpeg-1.4-py3-none-any.whl size=6082 sha256=12a534e0c8bd1d79e9a84e7183f13bce3cda864af56264f3584c5296678c7c51\n",
      "  Stored in directory: /Users/igyuseob/Library/Caches/pip/wheels/30/33/46/5ab7eca55b9490dddbf3441c68a29535996270ef1ce8b9b6d7\n",
      "Successfully built ffmpeg\n",
      "Installing collected packages: ffmpeg\n",
      "Successfully installed ffmpeg-1.4\n",
      "Note: you may need to restart the kernel to use updated packages.\n"
     ]
    }
   ],
   "source": [
    "pip install ffmpeg"
   ]
  },
  {
   "cell_type": "code",
   "execution_count": null,
   "metadata": {},
   "outputs": [],
   "source": [
    "import os\n",
    "from pydub import AudioSegment\n",
    "from tqdm import tqdm\n",
    "\n",
    "# 입력 디렉토리와 출력 디렉토리 설정\n",
    "input_dir = './real/'\n",
    "output_dir = './wav_real/'\n",
    "\n",
    "# 출력 디렉토리가 존재하지 않으면 생성\n",
    "os.makedirs(output_dir, exist_ok=True)\n",
    "\n",
    "# 입력 디렉토리의 모든 OGG 파일을 변환하여 출력 디렉토리에 저장\n",
    "for filename in tqdm(os.listdir(input_dir)):\n",
    "    if filename.endswith('.ogg'):\n",
    "        file_path = os.path.join(input_dir, filename)\n",
    "        print(input_dir, filename)\n",
    "        print(file_path)\n",
    "        output_path = os.path.join(output_dir, filename.replace('.ogg', '.wav'))\n",
    "\n",
    "        # 오디오 파일 로드 및 변환\n",
    "        audio = AudioSegment.from_ogg(file_path)\n",
    "        audio.export(output_path, format='wav')\n",
    "\n",
    "print(\"All files have been converted.\")"
   ]
  },
  {
   "cell_type": "code",
   "execution_count": null,
   "metadata": {},
   "outputs": [],
   "source": [
    "import os\n",
    "from pydub import AudioSegment\n",
    "from tqdm import tqdm\n",
    "\n",
    "# 입력 디렉토리와 출력 디렉토리 설정\n",
    "input_dir = './fake/'\n",
    "output_dir = './wav_fake/'\n",
    "\n",
    "# 출력 디렉토리가 존재하지 않으면 생성\n",
    "os.makedirs(output_dir, exist_ok=True)\n",
    "\n",
    "# 입력 디렉토리의 모든 OGG 파일을 변환하여 출력 디렉토리에 저장\n",
    "for filename in tqdm(os.listdir(input_dir)):\n",
    "    if filename.endswith('.ogg'):\n",
    "        file_path = os.path.join(input_dir, filename)\n",
    "        print(input_dir, filename)\n",
    "        print(file_path)\n",
    "        output_path = os.path.join(output_dir, filename.replace('.ogg', '.wav'))\n",
    "\n",
    "        # 오디오 파일 로드 및 변환\n",
    "        audio = AudioSegment.from_ogg(file_path)\n",
    "        audio.export(output_path, format='wav')\n",
    "\n",
    "print(\"All files have been converted.\")"
   ]
  },
  {
   "cell_type": "code",
   "execution_count": null,
   "metadata": {},
   "outputs": [],
   "source": []
  }
 ],
 "metadata": {
  "kernelspec": {
   "display_name": "daycon",
   "language": "python",
   "name": "python3"
  },
  "language_info": {
   "codemirror_mode": {
    "name": "ipython",
    "version": 3
   },
   "file_extension": ".py",
   "mimetype": "text/x-python",
   "name": "python",
   "nbconvert_exporter": "python",
   "pygments_lexer": "ipython3",
   "version": "3.8.19"
  }
 },
 "nbformat": 4,
 "nbformat_minor": 2
}
