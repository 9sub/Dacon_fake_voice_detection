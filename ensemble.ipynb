{
 "cells": [
  {
   "cell_type": "code",
   "execution_count": 10,
   "metadata": {},
   "outputs": [
    {
     "name": "stdout",
     "output_type": "stream",
     "text": [
      "앙상블 결과가 성공적으로 저장되었습니다.\n"
     ]
    }
   ],
   "source": [
    "import pandas as pd\n",
    "\n",
    "# 두 개의 CSV 파일을 읽기 (파일 경로를 적절히 변경하세요)\n",
    "csv1 = pd.read_csv('./0715_mels_mfcc_aug_simpleCNN.csv') #0.32\n",
    "csv2 = pd.read_csv('./bandstop_filter_preprocessing_RandomForestClassifier.csv') # 0.34\n",
    "csv3 = pd.read_csv('./synthetic_voice_detection_vocoder.csv') #0.41\n",
    "csv4 = pd.read_csv('./MLP_variaton2.csv') #0.37\n",
    "# 가중치 설정\n",
    "weight1 = 0.4\n",
    "weight2 = 0.3\n",
    "weight3 = 0.15\n",
    "weight4 = 0.15\n",
    "\n",
    "# 가중치를 반영한 확률 계산\n",
    "csv1['fake_weighted'] = csv1['fake'] * weight1\n",
    "csv1['real_weighted'] = csv1['real'] * weight1\n",
    "\n",
    "csv2['fake_weighted'] = csv2['fake'] * weight2\n",
    "csv2['real_weighted'] = csv2['real'] * weight2\n",
    "\n",
    "csv3['fake_weighted'] = csv3['fake'] * weight3\n",
    "csv3['real_weighted'] = csv3['real'] * weight3\n",
    "\n",
    "csv4['fake_weighted'] = csv4['fake'] * weight4\n",
    "csv4['real_weighted'] = csv4['real'] * weight4\n",
    "\n",
    "# 앙상블된 확률 계산\n",
    "ensemble_fake = csv1['fake_weighted'] + csv2['fake_weighted'] + csv3['fake_weighted'] + csv4['fake_weighted']\n",
    "ensemble_real = csv1['real_weighted'] + csv2['real_weighted'] + csv3['real_weighted'] + csv4['real_weighted']\n",
    "\n",
    "# 결과를 데이터프레임으로 정리\n",
    "ensemble_result = pd.DataFrame({\n",
    "    'id': csv1['id'],\n",
    "    'fake': ensemble_fake,\n",
    "    'real': ensemble_real\n",
    "})\n",
    "\n",
    "# 결과를 CSV 파일로 저장\n",
    "ensemble_result.to_csv('1026296(0.4)_1029638(0.3)_1029101(0.15)_1026072(0.15)_ensemble.csv', index=False)\n",
    "\n",
    "print(\"앙상블 결과가 성공적으로 저장되었습니다.\")"
   ]
  },
  {
   "cell_type": "code",
   "execution_count": 7,
   "metadata": {},
   "outputs": [
    {
     "name": "stdout",
     "output_type": "stream",
     "text": [
      "앙상블 결과가 성공적으로 저장되었습니다.\n"
     ]
    }
   ],
   "source": [
    "import pandas as pd\n",
    "\n",
    "# 두 개의 CSV 파일을 읽기 (파일 경로를 적절히 변경하세요)\n",
    "csv1 = pd.read_csv('./0715_mels_mfcc_aug_simpleCNN.csv')\n",
    "csv2 = pd.read_csv('./bandstop_filter_preprocessing_RandomForestClassifier.csv')\n",
    "#csv3 = pd.read_csv('./synthetic_voice_detection_vocoder.csv')\n",
    "\n",
    "# 가중치 설정\n",
    "weight1 = 0.5\n",
    "weight2 = 0.3\n",
    "weight3 = 0.2\n",
    "\n",
    "# 가중치를 반영한 확률 계산\n",
    "csv1['fake_weighted'] = csv1['fake'] \n",
    "csv1['real_weighted'] = csv1['real'] \n",
    "\n",
    "csv2['fake_weighted'] = csv2['fake']\n",
    "csv2['real_weighted'] = csv2['real']\n",
    "\n",
    "#csv3['fake_weighted'] = csv3['fake'] * weight3\n",
    "#csv3['real_weighted'] = csv3['real'] * weight3\n",
    "\n",
    "# 앙상블된 확률 계산\n",
    "ensemble_fake = csv1['fake_weighted']\n",
    "ensemble_real = csv2['real_weighted']\n",
    "\n",
    "# 결과를 데이터프레임으로 정리\n",
    "ensemble_result = pd.DataFrame({\n",
    "    'id': csv1['id'],\n",
    "    'fake': ensemble_fake,\n",
    "    'real': ensemble_real\n",
    "})\n",
    "\n",
    "# 결과를 CSV 파일로 저장\n",
    "ensemble_result.to_csv('1026296(fake)_1029638(real)__ensemble.csv', index=False)\n",
    "\n",
    "print(\"앙상블 결과가 성공적으로 저장되었습니다.\")"
   ]
  },
  {
   "cell_type": "code",
   "execution_count": null,
   "metadata": {},
   "outputs": [],
   "source": []
  }
 ],
 "metadata": {
  "kernelspec": {
   "display_name": "daycon",
   "language": "python",
   "name": "python3"
  },
  "language_info": {
   "codemirror_mode": {
    "name": "ipython",
    "version": 3
   },
   "file_extension": ".py",
   "mimetype": "text/x-python",
   "name": "python",
   "nbconvert_exporter": "python",
   "pygments_lexer": "ipython3",
   "version": "3.8.19"
  }
 },
 "nbformat": 4,
 "nbformat_minor": 2
}
